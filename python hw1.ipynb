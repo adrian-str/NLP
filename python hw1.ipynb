{
 "cells": [
  {
   "cell_type": "code",
   "execution_count": 1,
   "id": "handmade-russell",
   "metadata": {},
   "outputs": [
    {
     "data": {
      "text/plain": [
       "12"
      ]
     },
     "execution_count": 1,
     "metadata": {},
     "output_type": "execute_result"
    }
   ],
   "source": [
    "num_of_days=[31,28,31,30,31,30,31,31,30,31,30,31]\n",
    "len(num_of_days)"
   ]
  },
  {
   "cell_type": "markdown",
   "id": "loved-thought",
   "metadata": {},
   "source": [
    "# Sa se introduca x - numarul lunei a anului. In baza lui x, sa se printeze numarul de zile in aceasta luna."
   ]
  },
  {
   "cell_type": "code",
   "execution_count": 12,
   "id": "interpreted-property",
   "metadata": {},
   "outputs": [],
   "source": [
    "def days_of_month(month_num):\n",
    "    num_of_days=[31,28,31,30,31,30,31,31,30,31,30,31]\n",
    "    print(num_of_days[month_num-1])"
   ]
  },
  {
   "cell_type": "code",
   "execution_count": 13,
   "id": "spoken-charity",
   "metadata": {},
   "outputs": [
    {
     "name": "stdout",
     "output_type": "stream",
     "text": [
      "28\n"
     ]
    }
   ],
   "source": [
    "days_of_month(2)"
   ]
  },
  {
   "cell_type": "markdown",
   "id": "vocational-settlement",
   "metadata": {},
   "source": [
    "## Completare a problemei precedente, pe langa x se introduce si anul, si la fel sa se afle numarul de zile in aceasta luna. "
   ]
  },
  {
   "cell_type": "code",
   "execution_count": 14,
   "id": "secret-length",
   "metadata": {},
   "outputs": [],
   "source": [
    "def days_of_month(month_num,year):\n",
    "    num_of_days=[31,28,31,30,31,30,31,31,30,31,30,31]\n",
    "    d = num_of_days[month_num-1]\n",
    "    if month_num==2 and year%4==0:\n",
    "        if year%100==0 and year%400==0 or year%100!=0:\n",
    "            d=29\n",
    "    print(d)"
   ]
  },
  {
   "cell_type": "code",
   "execution_count": 20,
   "id": "grand-leave",
   "metadata": {},
   "outputs": [
    {
     "name": "stdout",
     "output_type": "stream",
     "text": [
      "29\n",
      "28\n",
      "31\n",
      "30\n",
      "29\n"
     ]
    }
   ],
   "source": [
    "days_of_month(2,2016)\n",
    "days_of_month(2,2017)\n",
    "days_of_month(3,2016)\n",
    "days_of_month(9,2020)\n",
    "days_of_month(2,2020)"
   ]
  },
  {
   "cell_type": "code",
   "execution_count": null,
   "id": "bored-ceremony",
   "metadata": {},
   "outputs": [],
   "source": []
  }
 ],
 "metadata": {
  "kernelspec": {
   "display_name": "Python 3",
   "language": "python",
   "name": "python3"
  },
  "language_info": {
   "codemirror_mode": {
    "name": "ipython",
    "version": 3
   },
   "file_extension": ".py",
   "mimetype": "text/x-python",
   "name": "python",
   "nbconvert_exporter": "python",
   "pygments_lexer": "ipython3",
   "version": "3.8.5"
  }
 },
 "nbformat": 4,
 "nbformat_minor": 5
}
